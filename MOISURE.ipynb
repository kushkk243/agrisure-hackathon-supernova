{
  "nbformat": 4,
  "nbformat_minor": 0,
  "metadata": {
    "colab": {
      "provenance": []
    },
    "kernelspec": {
      "name": "python3",
      "display_name": "Python 3"
    },
    "language_info": {
      "name": "python"
    }
  },
  "cells": [
    {
      "cell_type": "code",
      "source": [
        "!pip install blynklib\n",
        "!pip install blynk-library-python"
      ],
      "metadata": {
        "colab": {
          "base_uri": "https://localhost:8080/"
        },
        "id": "BTJd2TSyheVY",
        "outputId": "2dc81c98-d4c0-4011-ede3-8f7a917f0735"
      },
      "execution_count": 17,
      "outputs": [
        {
          "output_type": "stream",
          "name": "stdout",
          "text": [
            "Requirement already satisfied: blynklib in /usr/local/lib/python3.10/dist-packages (0.2.6)\n",
            "Requirement already satisfied: blynk-library-python in /usr/local/lib/python3.10/dist-packages (0.2.0)\n"
          ]
        }
      ]
    },
    {
      "cell_type": "code",
      "source": [
        "!pip uninstall scikit-learn"
      ],
      "metadata": {
        "id": "gQ862GnAje4Q",
        "colab": {
          "base_uri": "https://localhost:8080/"
        },
        "outputId": "1f1a2819-815a-4aa6-9f96-5acb279ff3bb"
      },
      "execution_count": 19,
      "outputs": [
        {
          "output_type": "stream",
          "name": "stdout",
          "text": [
            "Found existing installation: scikit-learn 1.4.1.post1\n",
            "Uninstalling scikit-learn-1.4.1.post1:\n",
            "  Would remove:\n",
            "    /usr/local/lib/python3.10/dist-packages/scikit_learn-1.4.1.post1.dist-info/*\n",
            "    /usr/local/lib/python3.10/dist-packages/scikit_learn.libs/libgomp-a34b3233.so.1.0.0\n",
            "    /usr/local/lib/python3.10/dist-packages/sklearn/*\n",
            "Proceed (Y/n)? Y\n",
            "  Successfully uninstalled scikit-learn-1.4.1.post1\n"
          ]
        }
      ]
    },
    {
      "cell_type": "code",
      "source": [
        "!pip install scikit-learn==1.4.0"
      ],
      "metadata": {
        "colab": {
          "base_uri": "https://localhost:8080/",
          "height": 296
        },
        "id": "7zzE5Umcisz4",
        "outputId": "b2dfeae6-9662-4eb7-c9c7-4dfeac1f5b74"
      },
      "execution_count": 20,
      "outputs": [
        {
          "output_type": "stream",
          "name": "stdout",
          "text": [
            "Collecting scikit-learn==1.4.0\n",
            "  Downloading scikit_learn-1.4.0-1-cp310-cp310-manylinux_2_17_x86_64.manylinux2014_x86_64.whl (12.1 MB)\n",
            "\u001b[2K     \u001b[90m━━━━━━━━━━━━━━━━━━━━━━━━━━━━━━━━━━━━━━━━\u001b[0m \u001b[32m12.1/12.1 MB\u001b[0m \u001b[31m26.2 MB/s\u001b[0m eta \u001b[36m0:00:00\u001b[0m\n",
            "\u001b[?25hRequirement already satisfied: numpy<2.0,>=1.19.5 in /usr/local/lib/python3.10/dist-packages (from scikit-learn==1.4.0) (1.25.2)\n",
            "Requirement already satisfied: scipy>=1.6.0 in /usr/local/lib/python3.10/dist-packages (from scikit-learn==1.4.0) (1.11.4)\n",
            "Requirement already satisfied: joblib>=1.2.0 in /usr/local/lib/python3.10/dist-packages (from scikit-learn==1.4.0) (1.3.2)\n",
            "Requirement already satisfied: threadpoolctl>=2.0.0 in /usr/local/lib/python3.10/dist-packages (from scikit-learn==1.4.0) (3.3.0)\n",
            "Installing collected packages: scikit-learn\n",
            "Successfully installed scikit-learn-1.4.0\n"
          ]
        },
        {
          "output_type": "display_data",
          "data": {
            "application/vnd.colab-display-data+json": {
              "pip_warning": {
                "packages": [
                  "sklearn"
                ]
              },
              "id": "3ac551a097324381b113e6257edca82f"
            }
          },
          "metadata": {}
        }
      ]
    },
    {
      "cell_type": "code",
      "source": [
        "!sudo apt-get install python3.10"
      ],
      "metadata": {
        "colab": {
          "base_uri": "https://localhost:8080/"
        },
        "id": "6rIPPhbXi5kJ",
        "outputId": "0b547213-970c-4ca4-ca91-e96c566fd308"
      },
      "execution_count": 30,
      "outputs": [
        {
          "output_type": "stream",
          "name": "stdout",
          "text": [
            "\u001b[31mERROR: Could not find a version that satisfies the requirement python==3.10.3 (from versions: none)\u001b[0m\u001b[31m\n",
            "\u001b[0m\u001b[31mERROR: No matching distribution found for python==3.10.3\u001b[0m\u001b[31m\n",
            "\u001b[0m"
          ]
        }
      ]
    },
    {
      "cell_type": "code",
      "source": [
        "import sklearn\n",
        "print(f\"scikit-learn version: {sklearn.__version__}\")\n",
        "import sys\n",
        "print(f\"Python version: {sys.version}\")"
      ],
      "metadata": {
        "colab": {
          "base_uri": "https://localhost:8080/"
        },
        "id": "M-49Jy_4h_PB",
        "outputId": "9d9c127a-e5c3-4b18-9fbc-606e0098388a"
      },
      "execution_count": 1,
      "outputs": [
        {
          "output_type": "stream",
          "name": "stdout",
          "text": [
            "scikit-learn version: 1.4.0\n",
            "Python version: 3.10.12 (main, Nov 20 2023, 15:14:05) [GCC 11.4.0]\n"
          ]
        }
      ]
    },
    {
      "cell_type": "code",
      "source": [
        "import joblib\n",
        "import pandas as pd\n",
        "import requests\n",
        "import BlynkLib\n",
        "import time\n",
        "\n",
        "BLYNK_API_KEY = \"kZe6zuBivQAde3-2rk_2PjyKG0XHvwky\"\n",
        "while(True):\n",
        "    VIRTUAL_PIN0 = 0\n",
        "    VIRTUAL_PIN1 = 1\n",
        "    VIRTUAL_PIN2 = 2\n",
        "    VIRTUAL_PIN3 = 3\n",
        "\n",
        "    url1 = f\"https://blr1.blynk.cloud/external/api/get?token={BLYNK_API_KEY}&v{VIRTUAL_PIN0}\"\n",
        "    url2 = f\"https://blr1.blynk.cloud/external/api/get?token={BLYNK_API_KEY}&v{VIRTUAL_PIN1}\"\n",
        "    url3 = f\"https://blr1.blynk.cloud/external/api/get?token={BLYNK_API_KEY}&v{VIRTUAL_PIN2}\"\n",
        "\n",
        "    temp = requests.get(url1)\n",
        "    humd = requests.get(url2)\n",
        "    mois = requests.get(url3)\n",
        "\n",
        "    data = {\n",
        "        'CropDays': [29.0],\n",
        "        'SoilMoisture': [mois.text],\n",
        "        'temperature': [temp.text],\n",
        "        'Humidity': [humd.text],\n",
        "        'CropType': [7.0]\n",
        "    }\n",
        "\n",
        "    df = pd.DataFrame(data)\n",
        "    print(df)\n",
        "\n",
        "    dtree = joblib.load('decision_tree.joblib')\n",
        "    y_pred = dtree.predict(df)\n",
        "    print(y_pred)\n",
        "\n",
        "    VIRTUAL_PIN3 = 3\n",
        "    url = f\"https://blr1.blynk.cloud/external/api/update?token={BLYNK_API_KEY}&v{VIRTUAL_PIN3}={y_pred[0]}\"\n",
        "\n",
        "    response = requests.get(url)\n",
        "\n",
        "    if response.status_code == 200:\n",
        "        print(f\"Value {y_pred[0]} updated successfully for pin V{VIRTUAL_PIN3}\")\n",
        "    else:\n",
        "        print(f\"Error updating value. Status code: {response.status_code}\")\n",
        "        print(response.text)  # Print the response content for further investigation\n",
        "        print(url)\n",
        "    time.sleep(1)"
      ],
      "metadata": {
        "colab": {
          "base_uri": "https://localhost:8080/",
          "height": 1000
        },
        "id": "wgJU8NxhgW1V",
        "outputId": "ebc2bd87-aa88-4c86-8a13-dd72f9958f0f"
      },
      "execution_count": 2,
      "outputs": [
        {
          "output_type": "stream",
          "name": "stdout",
          "text": [
            "\n",
            "    ___  __          __\n",
            "   / _ )/ /_ _____  / /__\n",
            "  / _  / / // / _ \\/  '_/\n",
            " /____/_/\\_, /_//_/_/\\_\\\n",
            "        /___/ for Python v0.2.0 (Linux)\n",
            "\n",
            "   CropDays SoilMoisture temperature Humidity  CropType\n",
            "0      29.0         1024          27       65       7.0\n",
            "[1]\n",
            "Value 1 updated successfully for pin V3\n",
            "   CropDays SoilMoisture temperature Humidity  CropType\n",
            "0      29.0         1024          27       65       7.0\n",
            "[1]\n",
            "Value 1 updated successfully for pin V3\n",
            "   CropDays SoilMoisture temperature Humidity  CropType\n",
            "0      29.0         1024          27       65       7.0\n",
            "[1]\n",
            "Value 1 updated successfully for pin V3\n",
            "   CropDays SoilMoisture temperature Humidity  CropType\n",
            "0      29.0         1024          27       65       7.0\n",
            "[1]\n",
            "Value 1 updated successfully for pin V3\n",
            "   CropDays SoilMoisture temperature Humidity  CropType\n",
            "0      29.0         1024          27       65       7.0\n",
            "[1]\n",
            "Value 1 updated successfully for pin V3\n",
            "   CropDays SoilMoisture temperature Humidity  CropType\n",
            "0      29.0         1024          27       65       7.0\n",
            "[1]\n",
            "Value 1 updated successfully for pin V3\n",
            "   CropDays SoilMoisture temperature Humidity  CropType\n",
            "0      29.0         1024          27       65       7.0\n",
            "[1]\n",
            "Value 1 updated successfully for pin V3\n",
            "   CropDays SoilMoisture temperature Humidity  CropType\n",
            "0      29.0         1024          27       65       7.0\n",
            "[1]\n",
            "Value 1 updated successfully for pin V3\n",
            "   CropDays SoilMoisture temperature Humidity  CropType\n",
            "0      29.0         1024          27       65       7.0\n",
            "[1]\n",
            "Value 1 updated successfully for pin V3\n",
            "   CropDays SoilMoisture temperature Humidity  CropType\n",
            "0      29.0         1024          27       65       7.0\n",
            "[1]\n",
            "Value 1 updated successfully for pin V3\n"
          ]
        },
        {
          "output_type": "error",
          "ename": "KeyboardInterrupt",
          "evalue": "",
          "traceback": [
            "\u001b[0;31m---------------------------------------------------------------------------\u001b[0m",
            "\u001b[0;31mKeyboardInterrupt\u001b[0m                         Traceback (most recent call last)",
            "\u001b[0;32m<ipython-input-2-c42d110b627a>\u001b[0m in \u001b[0;36m<cell line: 8>\u001b[0;34m()\u001b[0m\n\u001b[1;32m     46\u001b[0m         \u001b[0mprint\u001b[0m\u001b[0;34m(\u001b[0m\u001b[0mresponse\u001b[0m\u001b[0;34m.\u001b[0m\u001b[0mtext\u001b[0m\u001b[0;34m)\u001b[0m  \u001b[0;31m# Print the response content for further investigation\u001b[0m\u001b[0;34m\u001b[0m\u001b[0;34m\u001b[0m\u001b[0m\n\u001b[1;32m     47\u001b[0m         \u001b[0mprint\u001b[0m\u001b[0;34m(\u001b[0m\u001b[0murl\u001b[0m\u001b[0;34m)\u001b[0m\u001b[0;34m\u001b[0m\u001b[0;34m\u001b[0m\u001b[0m\n\u001b[0;32m---> 48\u001b[0;31m     \u001b[0mtime\u001b[0m\u001b[0;34m.\u001b[0m\u001b[0msleep\u001b[0m\u001b[0;34m(\u001b[0m\u001b[0;36m1\u001b[0m\u001b[0;34m)\u001b[0m\u001b[0;34m\u001b[0m\u001b[0;34m\u001b[0m\u001b[0m\n\u001b[0m",
            "\u001b[0;31mKeyboardInterrupt\u001b[0m: "
          ]
        }
      ]
    },
    {
      "cell_type": "code",
      "source": [],
      "metadata": {
        "id": "LDyseuH3lSvm"
      },
      "execution_count": null,
      "outputs": []
    }
  ]
}